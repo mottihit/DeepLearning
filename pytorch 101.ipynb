{
 "cells": [
  {
   "cell_type": "markdown",
   "id": "90537f38",
   "metadata": {},
   "source": [
    "# PyTorch 101: Basic Tensor Operations\n",
    "Welcome to PyTorch 101! In this notebook, we’ll explore PyTorch's basic tensor operations, similar to what you might already know from using NumPy. By the end of this tutorial, you’ll have a strong foundation in working with tensors in PyTorch, which is essential for any deep learning task."
   ]
  },
  {
   "cell_type": "markdown",
   "id": "37549acc",
   "metadata": {},
   "source": [
    "## 1. Setting Up and Importing Libraries\n",
    "To get started, run the cell below to import PyTorch. We’ll also use Matplotlib to visualize data."
   ]
  },
  {
   "cell_type": "code",
   "execution_count": 3,
   "id": "71e78894",
   "metadata": {},
   "outputs": [
    {
     "name": "stdout",
     "output_type": "stream",
     "text": [
      "PyTorch version: 2.5.1\n",
      "Is CUDA available? True\n"
     ]
    }
   ],
   "source": [
    "# Import necessary libraries\n",
    "import torch\n",
    "import numpy as np\n",
    "import matplotlib.pyplot as plt\n",
    "\n",
    "# Check if PyTorch is installed correctly\n",
    "print(\"PyTorch version:\", torch.__version__)\n",
    "print(\"Is CUDA available?\", torch.cuda.is_available())"
   ]
  },
  {
   "cell_type": "markdown",
   "id": "8c93cbde",
   "metadata": {},
   "source": [
    "## 2. Creating Tensors\n",
    "Tensors are the core data structure in PyTorch. Think of them as multi-dimensional arrays, similar to NumPy arrays."
   ]
  },
  {
   "cell_type": "markdown",
   "id": "5b0811ac",
   "metadata": {},
   "source": [
    "### Example: Creating Tensors from Lists or NumPy Arrays"
   ]
  },
  {
   "cell_type": "code",
   "execution_count": 6,
   "id": "5a59863f",
   "metadata": {},
   "outputs": [
    {
     "name": "stdout",
     "output_type": "stream",
     "text": [
      "Tensor from list: tensor([1, 2, 3, 4])\n",
      "Tensor from numpy array: tensor([5, 6, 7, 8], dtype=torch.int32)\n"
     ]
    }
   ],
   "source": [
    "# Create a tensor from a list\n",
    "tensor_from_list = torch.tensor([1, 2, 3, 4])\n",
    "print(\"Tensor from list:\", tensor_from_list)\n",
    "\n",
    "# Create a tensor from a NumPy array\n",
    "np_array = np.array([5, 6, 7, 8])\n",
    "tensor_from_np = torch.tensor(np_array)\n",
    "print(\"Tensor from numpy array:\", tensor_from_np)"
   ]
  },
  {
   "cell_type": "markdown",
   "id": "5d36f2a0",
   "metadata": {},
   "source": [
    "### Exercise 1: Create a 2x3 tensor with the numbers 1 through 6."
   ]
  },
  {
   "cell_type": "code",
   "execution_count": 8,
   "id": "6606a8dc",
   "metadata": {},
   "outputs": [
    {
     "name": "stdout",
     "output_type": "stream",
     "text": [
      "2x3 tensor:\n",
      " tensor([[1, 2, 3],\n",
      "        [4, 5, 6]])\n"
     ]
    }
   ],
   "source": [
    "# Your code here\n",
    "my_tensor = torch.tensor([[1,2,3],[4,5,6]])\n",
    "print(\"2x3 tensor:\\n\", my_tensor)"
   ]
  },
  {
   "cell_type": "markdown",
   "id": "e957ef01",
   "metadata": {},
   "source": [
    "## 3. Tensor Types and Attributes\n",
    "Each tensor has attributes such as `dtype`, `shape`, and `device`. Understanding these attributes is crucial for managing tensors."
   ]
  },
  {
   "cell_type": "code",
   "execution_count": 10,
   "id": "30e0ae1f",
   "metadata": {},
   "outputs": [
    {
     "name": "stdout",
     "output_type": "stream",
     "text": [
      "Data type: torch.float32\n",
      "Shape: torch.Size([2, 2])\n",
      "Device: cpu\n"
     ]
    }
   ],
   "source": [
    "# Example tensor\n",
    "example_tensor = torch.tensor([[1.0, 2.0], [3.0, 4.0]])\n",
    "\n",
    "print(\"Data type:\", example_tensor.dtype)\n",
    "print(\"Shape:\", example_tensor.shape)\n",
    "print(\"Device:\", example_tensor.device)"
   ]
  },
  {
   "cell_type": "markdown",
   "id": "494218c7",
   "metadata": {},
   "source": [
    "### Exercise 2: Create a 3x3 float tensor with all values set to 0.0, then check its attributes."
   ]
  },
  {
   "cell_type": "code",
   "execution_count": 12,
   "id": "66b26617",
   "metadata": {},
   "outputs": [
    {
     "name": "stdout",
     "output_type": "stream",
     "text": [
      "3x3 tensor:\n",
      " tensor([[0., 0., 0.],\n",
      "        [0., 0., 0.],\n",
      "        [0., 0., 0.]])\n",
      "Data type: torch.float32\n",
      "Shape: torch.Size([3, 3])\n"
     ]
    }
   ],
   "source": [
    "# Your code here\n",
    "zero_tensor = torch.zeros([3,3])\n",
    "print(\"3x3 tensor:\\n\", zero_tensor)\n",
    "print(\"Data type:\", zero_tensor.dtype)\n",
    "print(\"Shape:\", zero_tensor.shape)"
   ]
  },
  {
   "cell_type": "markdown",
   "id": "2c97e0dc",
   "metadata": {},
   "source": [
    "## 4. Basic Tensor Operations\n",
    "Just like in NumPy, you can perform mathematical operations on tensors."
   ]
  },
  {
   "cell_type": "markdown",
   "id": "ef710152",
   "metadata": {},
   "source": [
    "### Example: Basic Arithmetic Operations"
   ]
  },
  {
   "cell_type": "code",
   "execution_count": 15,
   "id": "a73e9473",
   "metadata": {},
   "outputs": [
    {
     "name": "stdout",
     "output_type": "stream",
     "text": [
      "Addition: tensor([5, 7, 9])\n",
      "Subtraction: tensor([-3, -3, -3])\n",
      "Multiplication: tensor([ 4, 10, 18])\n",
      "Division: tensor([0.2500, 0.4000, 0.5000])\n"
     ]
    }
   ],
   "source": [
    "a = torch.tensor([1, 2, 3])\n",
    "b = torch.tensor([4, 5, 6])\n",
    "\n",
    "print(\"Addition:\", a + b)\n",
    "print(\"Subtraction:\", a - b)\n",
    "print(\"Multiplication:\", a * b)\n",
    "print(\"Division:\", a / b)"
   ]
  },
  {
   "cell_type": "markdown",
   "id": "e49e286d",
   "metadata": {},
   "source": [
    "### Exercise 3: Create two 3x3 tensors and perform element-wise addition, subtraction, and multiplication."
   ]
  },
  {
   "cell_type": "code",
   "execution_count": 17,
   "id": "1e14f15a",
   "metadata": {},
   "outputs": [
    {
     "name": "stdout",
     "output_type": "stream",
     "text": [
      "tensor([[5, 6, 5],\n",
      "        [4, 7, 6],\n",
      "        [5, 3, 3]])\n",
      "\n",
      "\n",
      "tensor([[3, 9, 6],\n",
      "        [7, 9, 8],\n",
      "        [3, 2, 2]])\n",
      "\n",
      "\n",
      "Addition:\n",
      " tensor([[ 8, 15, 11],\n",
      "        [11, 16, 14],\n",
      "        [ 8,  5,  5]])\n",
      "Subtraction:\n",
      " tensor([[ 2, -3, -1],\n",
      "        [-3, -2, -2],\n",
      "        [ 2,  1,  1]])\n",
      "Multiplication:\n",
      " tensor([[15, 54, 30],\n",
      "        [28, 63, 48],\n",
      "        [15,  6,  6]])\n"
     ]
    }
   ],
   "source": [
    "# Your code here\n",
    "tensor_a = torch.randint(low=1, high = 10, size=[3,3])\n",
    "tensor_b = torch.randint(low=1, high = 10, size=[3,3])\n",
    "print(tensor_a,end=\"\\n\\n\\n\")\n",
    "print(tensor_b, end='\\n\\n\\n')\n",
    "# Perform operations\n",
    "print(\"Addition:\\n\", tensor_a + tensor_b)\n",
    "print(\"Subtraction:\\n\", tensor_a - tensor_b)\n",
    "print(\"Multiplication:\\n\", tensor_a * tensor_b)"
   ]
  },
  {
   "cell_type": "markdown",
   "id": "77e229a5",
   "metadata": {},
   "source": [
    "## 5. Matrix Multiplication\n",
    "Matrix multiplication is essential in neural networks. PyTorch provides several ways to perform it."
   ]
  },
  {
   "cell_type": "code",
   "execution_count": 19,
   "id": "b0091357",
   "metadata": {},
   "outputs": [
    {
     "name": "stdout",
     "output_type": "stream",
     "text": [
      "Matrix multiplication result:\n",
      " tensor([[ 58,  64],\n",
      "        [139, 154]])\n",
      "Matrix multiplication result:\n",
      " tensor([[ 58,  64],\n",
      "        [139, 154]])\n"
     ]
    }
   ],
   "source": [
    "# 2x3 tensor\n",
    "matrix_a = torch.tensor([[1, 2, 3], [4, 5, 6]])\n",
    "# 3x2 tensor\n",
    "matrix_b = torch.tensor([[7, 8], [9, 10], [11, 12]])\n",
    "\n",
    "result = torch.matmul(matrix_a, matrix_b)\n",
    "print(\"Matrix multiplication result:\\n\", result)\n",
    "\n",
    "result2 = matrix_a@matrix_b\n",
    "print(\"Matrix multiplication result:\\n\", result2)"
   ]
  },
  {
   "cell_type": "markdown",
   "id": "e4fee3be",
   "metadata": {},
   "source": [
    "### Exercise 4: Create a 2x3 and a 3x2 tensor, then perform matrix multiplication."
   ]
  },
  {
   "cell_type": "code",
   "execution_count": 21,
   "id": "83c42408",
   "metadata": {},
   "outputs": [
    {
     "name": "stdout",
     "output_type": "stream",
     "text": [
      "tensor([[3, 1, 2],\n",
      "        [1, 2, 3]])\n",
      "\n",
      "tensor([[2, 3],\n",
      "        [2, 1],\n",
      "        [3, 1]])\n",
      "\n",
      "Matrix multiplication result:\n",
      " tensor([[14, 12],\n",
      "        [15,  8]])\n"
     ]
    }
   ],
   "source": [
    "# Your code here\n",
    "matrix_a = torch.randint(low=1, high=4, size=[2,3])\n",
    "matrix_b = torch.randint(low=1, high=4, size=[3,2])\n",
    "\n",
    "print(matrix_a, end=\"\\n\\n\")\n",
    "print(matrix_b, end=\"\\n\\n\")\n",
    "# Perform matrix multiplication\n",
    "result = torch.matmul(matrix_a, matrix_b)\n",
    "print(\"Matrix multiplication result:\\n\", result)"
   ]
  },
  {
   "cell_type": "markdown",
   "id": "6366f65d",
   "metadata": {},
   "source": [
    "## 6. Tensor Reshaping\n",
    "Reshaping tensors is helpful for feeding data into neural networks, where data often needs to be resized."
   ]
  },
  {
   "cell_type": "code",
   "execution_count": 23,
   "id": "b18e6119",
   "metadata": {},
   "outputs": [
    {
     "name": "stdout",
     "output_type": "stream",
     "text": [
      "Original tensor:\n",
      " tensor([[1, 2, 3],\n",
      "        [4, 5, 6]])\n",
      "Reshaped tensor:\n",
      " tensor([[1, 2],\n",
      "        [3, 4],\n",
      "        [5, 6]])\n"
     ]
    }
   ],
   "source": [
    "tensor = torch.tensor([[1, 2, 3], [4, 5, 6]])\n",
    "reshaped = tensor.view(3, 2)  # Change shape to 3x2\n",
    "print(\"Original tensor:\\n\", tensor)\n",
    "print(\"Reshaped tensor:\\n\", reshaped)"
   ]
  },
  {
   "cell_type": "markdown",
   "id": "722c8c76",
   "metadata": {},
   "source": [
    "### Exercise 5: Create a 1x6 tensor and reshape it into a 2x3 tensor."
   ]
  },
  {
   "cell_type": "code",
   "execution_count": 28,
   "id": "d7034110",
   "metadata": {},
   "outputs": [
    {
     "name": "stdout",
     "output_type": "stream",
     "text": [
      "Reshaped tensor:\n",
      " tensor([[ 1, 15,  7],\n",
      "        [ 9,  3, 13]])\n"
     ]
    }
   ],
   "source": [
    "# Your code here\n",
    "tensor = torch.randint(low=1, high=20, size=[1,6])\n",
    "reshaped_tensor = tensor.view([2,3])\n",
    "print(\"Reshaped tensor:\\n\", reshaped_tensor)"
   ]
  },
  {
   "cell_type": "markdown",
   "id": "a423eb50",
   "metadata": {},
   "source": [
    "## Summary\n",
    "In this notebook, you’ve explored the basics of PyTorch tensors, including creation, basic operations, matrix multiplication, and reshaping. Mastering these fundamentals will prepare you well for working with PyTorch in deep learning tasks. Keep experimenting and testing your understanding!"
   ]
  },
  {
   "cell_type": "code",
   "execution_count": null,
   "id": "d90fb09b-bc57-4536-b376-0632fd2155d3",
   "metadata": {},
   "outputs": [],
   "source": []
  }
 ],
 "metadata": {
  "kernelspec": {
   "display_name": "Python 3 (ipykernel)",
   "language": "python",
   "name": "python3"
  },
  "language_info": {
   "codemirror_mode": {
    "name": "ipython",
    "version": 3
   },
   "file_extension": ".py",
   "mimetype": "text/x-python",
   "name": "python",
   "nbconvert_exporter": "python",
   "pygments_lexer": "ipython3",
   "version": "3.12.4"
  }
 },
 "nbformat": 4,
 "nbformat_minor": 5
}
